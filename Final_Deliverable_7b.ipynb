{
  "nbformat": 4,
  "nbformat_minor": 0,
  "metadata": {
    "colab": {
      "name": "Final_Deliverable_7b.ipynb",
      "provenance": []
    },
    "kernelspec": {
      "name": "python3",
      "display_name": "Python 3"
    }
  },
  "cells": [
    {
      "cell_type": "markdown",
      "metadata": {
        "id": "dpQtIvCNvigL"
      },
      "source": [
        "#**Features Explanation:**\n",
        "age: Age of the patient\n",
        "\n",
        "Anaemia: Decrease of red blood cells or hemoglobin (0 = no, 1 = yes)\n",
        "\n",
        "High blood pressure: If a patient has hypertension (0 = no, 1 = yes)\n",
        "\n",
        "Creatinine phosphokinase (CPK): Level of the CPK enzyme in the blood (range from 23mcg/L to 7861mcg/L)\n",
        "\n",
        "Diabetes: If the patient has diabetes (0 = no, 1 = yes)\n",
        "\n",
        "Ejection fraction: Percentage of blood leaving (range from 14% to 80%)\n",
        "\n",
        "sex: The person's sex (1 = male, 0 = female)\n",
        "\n",
        "Platelets: Platelets in the blood (range from 25 kiloplatelets/mL to 850 kiloplatelets/mL)\n",
        "\n",
        "Serum creatinine: Level of creatinine in the blood (range from 0.50mg/dL to 9.40mg/dL)\n",
        "\n",
        "Serum sodium: Level of sodium in the blood (range from 114mEq/L to 148mEq/L)\n",
        "\n",
        "Smoking: If the patient smokes (0 = no, 1 = yes)\n",
        "\n",
        "Time: Follow-up period (range from 4 days to 285 days)\n",
        "\n",
        "(target) death event: If the patient died during the follow-up period (0 = no, 1 = yes)\n",
        "\n",
        "\n",
        "**Boolean features**\n",
        "\n",
        "  - Sex: Gender of patient Male = 1, Female =0\n",
        "  - Diabetes: 0 = No, 1 = Yes\n",
        "  - Anaemia: 0 = No, 1 = Yes\n",
        "  - High_blood_pressure: 0 = No, 1 = Yes\n",
        "  - Smoking: 0 = No, 1 = Yes\n",
        "  - DEATH_EVENT: 0 = No, 1 = Yes"
      ]
    },
    {
      "cell_type": "code",
      "metadata": {
        "id": "Z2UFWEXlPf0u"
      },
      "source": [
        "import pandas as pd\n",
        "import numpy as np\n",
        "import matplotlib.pyplot as plt\n",
        "import seaborn as sns\n",
        "from sklearn.model_selection import train_test_split\n",
        "from sklearn.linear_model import LogisticRegression\n",
        "from sklearn.metrics import confusion_matrix\n",
        "from sklearn.metrics import classification_report\n",
        "from sklearn.metrics import roc_auc_score\n",
        "from sklearn.metrics import roc_curve\n",
        "from sklearn.ensemble import RandomForestClassifier"
      ],
      "execution_count": null,
      "outputs": []
    },
    {
      "cell_type": "code",
      "metadata": {
        "id": "4xxYuGQKHB89"
      },
      "source": [
        "clinical = pd.read_csv('https://raw.githubusercontent.com/laiz6660666/BA765-Session02/master/heart_failure_clinical_records_dataset.csv')\n",
        "clinical.head()\n",
        "clinical.info()"
      ],
      "execution_count": null,
      "outputs": []
    },
    {
      "cell_type": "markdown",
      "metadata": {
        "id": "o6Tiq1bWHQ5d"
      },
      "source": [
        "#**Machine Learning Models**"
      ]
    },
    {
      "cell_type": "markdown",
      "metadata": {
        "id": "PZxkU0UCHXpR"
      },
      "source": [
        "#Feature Importance"
      ]
    },
    {
      "cell_type": "code",
      "metadata": {
        "id": "BYeruUZ9HQmN"
      },
      "source": [
        "from sklearn.datasets import load_iris\n",
        "from sklearn.svm import LinearSVC\n",
        "from sklearn.linear_model import LogisticRegression\n",
        "from sklearn.preprocessing import StandardScaler\n",
        "from sklearn.pipeline import make_pipeline\n",
        "from sklearn.ensemble import StackingClassifier\n",
        "from sklearn.model_selection import train_test_split\n",
        "\n",
        "X, y = clinical(return_X_y=True)\n",
        "estimators = [\n",
        "    ('rf', RandomForestClassifier(n_estimators=100, random_state=775)),\n",
        "    ('svr', make_pipeline(StandardScaler(),\n",
        "                          LinearSVC(random_state=775)))\n",
        "]\n",
        "clf = StackingClassifier(\n",
        "    estimators=estimators, final_estimator=LogisticRegression()\n",
        ")\n",
        "X_train, X_test, y_train, y_test = train_test_split(\n",
        "    X, y, stratify=y, random_state=775\n",
        ")\n",
        "clf.fit(X_train, y_train).score(X_test, y_test)"
      ],
      "execution_count": null,
      "outputs": []
    },
    {
      "cell_type": "code",
      "metadata": {
        "id": "zvjvEL1tHhcp"
      },
      "source": [
        "params = {'random_state': 775, 'n_jobs': 4, 'n_estimators': 100, 'max_depth': 8}\n",
        "\n",
        "x, y = clinical.drop('DEATH_EVENT',axis=1), clinical['DEATH_EVENT']\n",
        "# Fit RandomForest Classifier\n",
        "clf = RandomForestClassifier(**params)\n",
        "clf = clf.fit(x, y)\n",
        "# Plot features importances\n",
        "imp = pd.Series(data=clf.feature_importances_, index=x.columns).sort_values(ascending=False)\n",
        "plt.figure(figsize=(10,12))\n",
        "plt.title(\"Feature importance\")\n",
        "ax = sns.barplot(y=imp.index, x=imp.values, palette=\"Blues_d\", orient='h')"
      ],
      "execution_count": null,
      "outputs": []
    },
    {
      "cell_type": "markdown",
      "metadata": {
        "id": "yrOrkvppcLUE"
      },
      "source": [
        "#**Random Forest Classifier**\n"
      ]
    },
    {
      "cell_type": "code",
      "metadata": {
        "id": "VNoKfh0ZcQ5q"
      },
      "source": [
        "# evaluate random forest algorithm for classification\n",
        "from numpy import mean\n",
        "from numpy import std\n",
        "from sklearn.datasets import make_classification\n",
        "from sklearn.model_selection import cross_val_score\n",
        "from sklearn.model_selection import RepeatedStratifiedKFold\n",
        "from sklearn.ensemble import RandomForestClassifier\n",
        "# define dataset\n",
        "X, y = make_classification(n_samples=1000, n_features=20, n_informative=15, n_redundant=5, random_state=775)\n",
        "# define the model\n",
        "model = RandomForestClassifier()\n",
        "# evaluate the model\n",
        "cv = RepeatedStratifiedKFold(n_splits=10, n_repeats=3, random_state=775)\n",
        "n_scores = cross_val_score(model, X, y, scoring='accuracy', cv=cv, n_jobs=-1, error_score='raise')\n",
        "# report performance\n",
        "print('Accuracy: %.3f (%.3f)' % (mean(n_scores), std(n_scores)))"
      ],
      "execution_count": null,
      "outputs": []
    },
    {
      "cell_type": "markdown",
      "metadata": {
        "id": "p3j-tNkucVni"
      },
      "source": [
        "#**Linear Regression**"
      ]
    },
    {
      "cell_type": "code",
      "metadata": {
        "id": "dmGq2NnjVEDK"
      },
      "source": [
        "drop = ['DEATH_EVENT','creatinine_phosphokinase']"
      ],
      "execution_count": null,
      "outputs": []
    },
    {
      "cell_type": "code",
      "metadata": {
        "id": "1-BgpJryUtYq"
      },
      "source": [
        "X, y = clinical.drop(drop,axis=1), clinical['DEATH_EVENT']"
      ],
      "execution_count": null,
      "outputs": []
    },
    {
      "cell_type": "code",
      "metadata": {
        "id": "vCVt6JRtaysT"
      },
      "source": [
        "Features = ['time','ejection_fraction','serum_creatinine']"
      ],
      "execution_count": null,
      "outputs": []
    },
    {
      "cell_type": "code",
      "metadata": {
        "id": "wIqyTK1jg39v"
      },
      "source": [
        "Features = ['ejection_fraction','serum_creatinine']"
      ],
      "execution_count": null,
      "outputs": []
    },
    {
      "cell_type": "code",
      "metadata": {
        "id": "T9PrCF6la3Ku"
      },
      "source": [
        "X, y = clinical[Features], clinical['DEATH_EVENT']"
      ],
      "execution_count": null,
      "outputs": []
    },
    {
      "cell_type": "code",
      "metadata": {
        "id": "13lKJnFRUwaX"
      },
      "source": [
        "x, y = clinical.drop('DEATH_EVENT',axis=1), clinical['DEATH_EVENT']"
      ],
      "execution_count": null,
      "outputs": []
    },
    {
      "cell_type": "code",
      "metadata": {
        "id": "TBceNvkLTt3Y"
      },
      "source": [
        "from sklearn.model_selection import train_test_split\n",
        "Xtrain, Xtest, ytrain, ytest = train_test_split(X, y, test_size=0.3, random_state=775)"
      ],
      "execution_count": null,
      "outputs": []
    },
    {
      "cell_type": "code",
      "metadata": {
        "id": "Na3HICjJUd0o"
      },
      "source": [
        "from sklearn.linear_model import LogisticRegression  # 1. choose model class\n",
        "model = LogisticRegression(solver='liblinear')     # 2. instantiate model"
      ],
      "execution_count": null,
      "outputs": []
    },
    {
      "cell_type": "code",
      "metadata": {
        "colab": {
          "base_uri": "https://localhost:8080/"
        },
        "id": "p54C-wOuUrZ8",
        "outputId": "b9b4352e-f984-48d3-c1ed-d65d3e7e82a7"
      },
      "source": [
        "model.fit(Xtrain, ytrain)"
      ],
      "execution_count": null,
      "outputs": [
        {
          "output_type": "execute_result",
          "data": {
            "text/plain": [
              "LogisticRegression(C=1.0, class_weight=None, dual=False, fit_intercept=True,\n",
              "                   intercept_scaling=1, l1_ratio=None, max_iter=100,\n",
              "                   multi_class='auto', n_jobs=None, penalty='l2',\n",
              "                   random_state=None, solver='liblinear', tol=0.0001, verbose=0,\n",
              "                   warm_start=False)"
            ]
          },
          "metadata": {
            "tags": []
          },
          "execution_count": 195
        }
      ]
    },
    {
      "cell_type": "code",
      "metadata": {
        "id": "KDfzoiCdVBOP"
      },
      "source": [
        "y_model = model.predict(Xtest)"
      ],
      "execution_count": null,
      "outputs": []
    },
    {
      "cell_type": "code",
      "metadata": {
        "colab": {
          "base_uri": "https://localhost:8080/",
          "height": 195
        },
        "id": "CG7QG39PVE8I",
        "outputId": "4220c34d-794a-4455-ed10-d67cdd578153"
      },
      "source": [
        "test = Xtest.join(ytest).reset_index()\n",
        "test.join(pd.Series(y_model, name='predicted')).head()"
      ],
      "execution_count": null,
      "outputs": [
        {
          "output_type": "execute_result",
          "data": {
            "text/html": [
              "<div>\n",
              "<style scoped>\n",
              "    .dataframe tbody tr th:only-of-type {\n",
              "        vertical-align: middle;\n",
              "    }\n",
              "\n",
              "    .dataframe tbody tr th {\n",
              "        vertical-align: top;\n",
              "    }\n",
              "\n",
              "    .dataframe thead th {\n",
              "        text-align: right;\n",
              "    }\n",
              "</style>\n",
              "<table border=\"1\" class=\"dataframe\">\n",
              "  <thead>\n",
              "    <tr style=\"text-align: right;\">\n",
              "      <th></th>\n",
              "      <th>index</th>\n",
              "      <th>time</th>\n",
              "      <th>ejection_fraction</th>\n",
              "      <th>serum_creatinine</th>\n",
              "      <th>DEATH_EVENT</th>\n",
              "      <th>predicted</th>\n",
              "    </tr>\n",
              "  </thead>\n",
              "  <tbody>\n",
              "    <tr>\n",
              "      <th>0</th>\n",
              "      <td>159</td>\n",
              "      <td>121</td>\n",
              "      <td>45</td>\n",
              "      <td>1.1</td>\n",
              "      <td>0</td>\n",
              "      <td>0</td>\n",
              "    </tr>\n",
              "    <tr>\n",
              "      <th>1</th>\n",
              "      <td>26</td>\n",
              "      <td>24</td>\n",
              "      <td>40</td>\n",
              "      <td>1.0</td>\n",
              "      <td>1</td>\n",
              "      <td>1</td>\n",
              "    </tr>\n",
              "    <tr>\n",
              "      <th>2</th>\n",
              "      <td>50</td>\n",
              "      <td>43</td>\n",
              "      <td>25</td>\n",
              "      <td>1.0</td>\n",
              "      <td>1</td>\n",
              "      <td>1</td>\n",
              "    </tr>\n",
              "    <tr>\n",
              "      <th>3</th>\n",
              "      <td>233</td>\n",
              "      <td>209</td>\n",
              "      <td>38</td>\n",
              "      <td>1.4</td>\n",
              "      <td>0</td>\n",
              "      <td>0</td>\n",
              "    </tr>\n",
              "    <tr>\n",
              "      <th>4</th>\n",
              "      <td>256</td>\n",
              "      <td>220</td>\n",
              "      <td>38</td>\n",
              "      <td>1.7</td>\n",
              "      <td>0</td>\n",
              "      <td>0</td>\n",
              "    </tr>\n",
              "  </tbody>\n",
              "</table>\n",
              "</div>"
            ],
            "text/plain": [
              "   index  time  ejection_fraction  serum_creatinine  DEATH_EVENT  predicted\n",
              "0    159   121                 45               1.1            0          0\n",
              "1     26    24                 40               1.0            1          1\n",
              "2     50    43                 25               1.0            1          1\n",
              "3    233   209                 38               1.4            0          0\n",
              "4    256   220                 38               1.7            0          0"
            ]
          },
          "metadata": {
            "tags": []
          },
          "execution_count": 197
        }
      ]
    },
    {
      "cell_type": "code",
      "metadata": {
        "colab": {
          "base_uri": "https://localhost:8080/"
        },
        "id": "dlRwuILhVG2u",
        "outputId": "9a023e9c-de19-463a-c741-e9001457e502"
      },
      "source": [
        "from sklearn.metrics import accuracy_score\n",
        "accuracy_score(ytest, y_model)"
      ],
      "execution_count": null,
      "outputs": [
        {
          "output_type": "execute_result",
          "data": {
            "text/plain": [
              "0.8111111111111111"
            ]
          },
          "metadata": {
            "tags": []
          },
          "execution_count": 198
        }
      ]
    },
    {
      "cell_type": "markdown",
      "metadata": {
        "id": "4eR6jIs6co9W"
      },
      "source": [
        "#**K Neighbor Classifier**"
      ]
    },
    {
      "cell_type": "code",
      "metadata": {
        "id": "mg64F2IIU75Y"
      },
      "source": [
        "# K Neighbors Classifier\n",
        "\n",
        "from sklearn.neighbors import KNeighborsClassifier\n",
        "kn_clf = KNeighborsClassifier(n_neighbors=6)\n",
        "kn_clf.fit(Xtrain, ytrain)\n",
        "kn_pred = kn_clf.predict(Xtest)\n",
        "kn_acc = accuracy_score(ytest, kn_pred)\n"
      ],
      "execution_count": null,
      "outputs": []
    },
    {
      "cell_type": "code",
      "metadata": {
        "colab": {
          "base_uri": "https://localhost:8080/"
        },
        "id": "INjlvczOcCIM",
        "outputId": "4267224c-42cd-4848-85a5-41cd218314f3"
      },
      "source": [
        "kn_acc"
      ],
      "execution_count": null,
      "outputs": [
        {
          "output_type": "execute_result",
          "data": {
            "text/plain": [
              "0.7111111111111111"
            ]
          },
          "metadata": {
            "tags": []
          },
          "execution_count": 212
        }
      ]
    },
    {
      "cell_type": "markdown",
      "metadata": {
        "id": "gdiGEJhScwu-"
      },
      "source": [
        "#**Gaussian NB**"
      ]
    },
    {
      "cell_type": "code",
      "metadata": {
        "id": "SAKX2KiqVPG1"
      },
      "source": [
        "from sklearn.naive_bayes import GaussianNB # 1. choose model class\n",
        "model = GaussianNB()             # 2. instantiate model\n",
        "model.fit(Xtrain, ytrain)           # 3. fit model to data\n",
        "y_model = model.predict(Xtest)        # 4. predict on new data"
      ],
      "execution_count": null,
      "outputs": []
    },
    {
      "cell_type": "code",
      "metadata": {
        "colab": {
          "base_uri": "https://localhost:8080/"
        },
        "id": "-ArlMYfcWWyR",
        "outputId": "564aa4e7-ca27-4976-aab3-63fc9513f852"
      },
      "source": [
        "from sklearn.metrics import accuracy_score\n",
        "accuracy_score(ytest, y_model)"
      ],
      "execution_count": null,
      "outputs": [
        {
          "output_type": "execute_result",
          "data": {
            "text/plain": [
              "0.7"
            ]
          },
          "metadata": {
            "tags": []
          },
          "execution_count": 210
        }
      ]
    }
  ]
}