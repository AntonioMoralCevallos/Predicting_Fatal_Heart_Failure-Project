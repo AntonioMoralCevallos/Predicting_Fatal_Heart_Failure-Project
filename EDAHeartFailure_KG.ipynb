{
 "cells": [
  {
   "cell_type": "markdown",
   "metadata": {},
   "source": [
    "# Project Title\n",
    "Predicting probability of death from heart disease based on different risk factors\n",
    "# Project Proposal\n",
    "Using  Heart Failure Clinical Data databases, our goal is to identify which risk factors are more strongly related to the death from heart disease, and develop a model to predict the probability of death due to heart disease using these risk factors.\n",
    "# Reference to Data Sources\n",
    "\n",
    "## Heart Failure Clinical Data\n",
    "Creator\n",
    "Davide Chicco, Giuseppe Jurman: Machine learning can predict survival of patients with heart failure from serum creatinine and ejection fraction alone. BMC Medical Informatics and Decision Making 20, 16 (2020).\n",
    "Original Publication\n",
    "https://bmcmedinformdecismak.biomedcentral.com/articles/10.1186/s12911-020-1023-5\n",
    "\n",
    "*Link*\n",
    "https://www.kaggle.com/andrewmvd/heart-failure-clinical-data"
   ]
  },
  {
   "cell_type": "markdown",
   "metadata": {},
   "source": [
    "# Project Codes"
   ]
  },
  {
   "cell_type": "markdown",
   "metadata": {},
   "source": [
    "### Load Packages"
   ]
  },
  {
   "cell_type": "code",
   "execution_count": 126,
   "metadata": {},
   "outputs": [],
   "source": [
    "import pandas as pd\n",
    "import numpy as np\n",
    "import matplotlib.pyplot as plt\n",
    "from sklearn.model_selection import train_test_split\n",
    "from sklearn.linear_model import LogisticRegression\n",
    "from sklearn.metrics import confusion_matrix\n",
    "from sklearn.metrics import classification_report\n",
    "from sklearn.metrics import roc_auc_score\n",
    "from sklearn.metrics import roc_curve"
   ]
  },
  {
   "cell_type": "markdown",
   "metadata": {},
   "source": [
    "### Load Data\n",
    ">The heart failure clinical data dataset contains 13 fields that can be used to predict the mortality probability from heart failure in patients admitted to the hospital. It provides biological indicators as well as behavioral risk factors such as if a patient is a smoker. This dataset can be also used to determine the mortality of patients with heart disease and it would be interesting to see the relationship between tables and variables."
   ]
  },
  {
   "cell_type": "code",
   "execution_count": 4,
   "metadata": {},
   "outputs": [
    {
     "data": {
      "text/html": [
       "<div>\n",
       "<style scoped>\n",
       "    .dataframe tbody tr th:only-of-type {\n",
       "        vertical-align: middle;\n",
       "    }\n",
       "\n",
       "    .dataframe tbody tr th {\n",
       "        vertical-align: top;\n",
       "    }\n",
       "\n",
       "    .dataframe thead th {\n",
       "        text-align: right;\n",
       "    }\n",
       "</style>\n",
       "<table border=\"1\" class=\"dataframe\">\n",
       "  <thead>\n",
       "    <tr style=\"text-align: right;\">\n",
       "      <th></th>\n",
       "      <th>age</th>\n",
       "      <th>anaemia</th>\n",
       "      <th>creatinine_phosphokinase</th>\n",
       "      <th>diabetes</th>\n",
       "      <th>ejection_fraction</th>\n",
       "      <th>high_blood_pressure</th>\n",
       "      <th>platelets</th>\n",
       "      <th>serum_creatinine</th>\n",
       "      <th>serum_sodium</th>\n",
       "      <th>sex</th>\n",
       "      <th>smoking</th>\n",
       "      <th>time</th>\n",
       "      <th>DEATH_EVENT</th>\n",
       "    </tr>\n",
       "  </thead>\n",
       "  <tbody>\n",
       "    <tr>\n",
       "      <th>0</th>\n",
       "      <td>75.0</td>\n",
       "      <td>0</td>\n",
       "      <td>582</td>\n",
       "      <td>0</td>\n",
       "      <td>20</td>\n",
       "      <td>1</td>\n",
       "      <td>265000.00</td>\n",
       "      <td>1.9</td>\n",
       "      <td>130</td>\n",
       "      <td>1</td>\n",
       "      <td>0</td>\n",
       "      <td>4</td>\n",
       "      <td>1</td>\n",
       "    </tr>\n",
       "    <tr>\n",
       "      <th>1</th>\n",
       "      <td>55.0</td>\n",
       "      <td>0</td>\n",
       "      <td>7861</td>\n",
       "      <td>0</td>\n",
       "      <td>38</td>\n",
       "      <td>0</td>\n",
       "      <td>263358.03</td>\n",
       "      <td>1.1</td>\n",
       "      <td>136</td>\n",
       "      <td>1</td>\n",
       "      <td>0</td>\n",
       "      <td>6</td>\n",
       "      <td>1</td>\n",
       "    </tr>\n",
       "    <tr>\n",
       "      <th>2</th>\n",
       "      <td>65.0</td>\n",
       "      <td>0</td>\n",
       "      <td>146</td>\n",
       "      <td>0</td>\n",
       "      <td>20</td>\n",
       "      <td>0</td>\n",
       "      <td>162000.00</td>\n",
       "      <td>1.3</td>\n",
       "      <td>129</td>\n",
       "      <td>1</td>\n",
       "      <td>1</td>\n",
       "      <td>7</td>\n",
       "      <td>1</td>\n",
       "    </tr>\n",
       "    <tr>\n",
       "      <th>3</th>\n",
       "      <td>50.0</td>\n",
       "      <td>1</td>\n",
       "      <td>111</td>\n",
       "      <td>0</td>\n",
       "      <td>20</td>\n",
       "      <td>0</td>\n",
       "      <td>210000.00</td>\n",
       "      <td>1.9</td>\n",
       "      <td>137</td>\n",
       "      <td>1</td>\n",
       "      <td>0</td>\n",
       "      <td>7</td>\n",
       "      <td>1</td>\n",
       "    </tr>\n",
       "    <tr>\n",
       "      <th>4</th>\n",
       "      <td>65.0</td>\n",
       "      <td>1</td>\n",
       "      <td>160</td>\n",
       "      <td>1</td>\n",
       "      <td>20</td>\n",
       "      <td>0</td>\n",
       "      <td>327000.00</td>\n",
       "      <td>2.7</td>\n",
       "      <td>116</td>\n",
       "      <td>0</td>\n",
       "      <td>0</td>\n",
       "      <td>8</td>\n",
       "      <td>1</td>\n",
       "    </tr>\n",
       "  </tbody>\n",
       "</table>\n",
       "</div>"
      ],
      "text/plain": [
       "    age  anaemia  creatinine_phosphokinase  diabetes  ejection_fraction  \\\n",
       "0  75.0        0                       582         0                 20   \n",
       "1  55.0        0                      7861         0                 38   \n",
       "2  65.0        0                       146         0                 20   \n",
       "3  50.0        1                       111         0                 20   \n",
       "4  65.0        1                       160         1                 20   \n",
       "\n",
       "   high_blood_pressure  platelets  serum_creatinine  serum_sodium  sex  \\\n",
       "0                    1  265000.00               1.9           130    1   \n",
       "1                    0  263358.03               1.1           136    1   \n",
       "2                    0  162000.00               1.3           129    1   \n",
       "3                    0  210000.00               1.9           137    1   \n",
       "4                    0  327000.00               2.7           116    0   \n",
       "\n",
       "   smoking  time  DEATH_EVENT  \n",
       "0        0     4            1  \n",
       "1        0     6            1  \n",
       "2        1     7            1  \n",
       "3        0     7            1  \n",
       "4        0     8            1  "
      ]
     },
     "execution_count": 4,
     "metadata": {},
     "output_type": "execute_result"
    }
   ],
   "source": [
    "'''\n",
    "Ejection fraction (EF) is a measurement, expressed as a percentage, of how much blood the left ventricle pumps out \n",
    "with each contraction. An ejection fraction of 60 percent means that 60 percent of the total amount of blood in the \n",
    "left ventricle is pushed out with each heartbeat.\n",
    "\n",
    "A serum creatinine test measures the level of creatinine in your blood and provides an estimate of how well your \n",
    "kidneys filter (glomerular filtration rate).\n",
    "'''\n",
    "\n",
    "clinical = pd.read_csv('heart_failure_clinical_data.csv')\n",
    "clinical.head(5)"
   ]
  },
  {
   "cell_type": "markdown",
   "metadata": {},
   "source": [
    "### Exploratory data analysis"
   ]
  },
  {
   "cell_type": "markdown",
   "metadata": {},
   "source": [
    "#### Gender\n",
    "> Within our clinical records, there are much more male patients (65%) with heart failure than female patients(35%)."
   ]
  },
  {
   "cell_type": "code",
   "execution_count": 77,
   "metadata": {},
   "outputs": [
    {
     "data": {
      "text/plain": [
       "<matplotlib.axes._subplots.AxesSubplot at 0x7fcfb3bbc7f0>"
      ]
     },
     "execution_count": 77,
     "metadata": {},
     "output_type": "execute_result"
    },
    {
     "data": {
      "image/png": "[encoded data removed]",
      "text/plain": [
       "<Figure size 432x288 with 1 Axes>"
      ]
     },
     "metadata": {},
     "output_type": "display_data"
    }
   ],
   "source": [
    "clinical.sex.value_counts().plot(kind='pie', labels={'Female', 'Male'}, autopct='%1.1f%%')"
   ]
  },
  {
   "cell_type": "markdown",
   "metadata": {},
   "source": [
    "#### Creatinine Phosphokinase\n",
    ">The typical range of Creatinine Phosphokinase for heart disease patients are usually within (0, 250) or around 600."
   ]
  },
  {
   "cell_type": "code",
   "execution_count": 92,
   "metadata": {},
   "outputs": [
    {
     "data": {
      "text/plain": [
       "<matplotlib.axes._subplots.AxesSubplot at 0x7fcfb41c2e20>"
      ]
     },
     "execution_count": 92,
     "metadata": {},
     "output_type": "execute_result"
    },
    {
     "data": {
      "image/png": "[encoded data removed]",
      "text/plain": [
       "<Figure size 432x288 with 1 Axes>"
      ]
     },
     "metadata": {
      "needs_background": "light"
     },
     "output_type": "display_data"
    }
   ],
   "source": [
    "clinical.creatinine_phosphokinase.hist(bins=50,range=(0, 1000))"
   ]
  },
  {
   "cell_type": "markdown",
   "metadata": {},
   "source": [
    "#### Age\n",
    "> The age histogram below shows that the patients within the age group [54,61] are more likely to have heart failure. However, as the age grows, patients will have higher and higher chance of dying from the disease."
   ]
  },
  {
   "cell_type": "code",
   "execution_count": 138,
   "metadata": {},
   "outputs": [
    {
     "data": {
      "text/plain": [
       "<matplotlib.axes._subplots.AxesSubplot at 0x7fcf95ea2190>"
      ]
     },
     "execution_count": 138,
     "metadata": {},
     "output_type": "execute_result"
    },
    {
     "data": {
      "image/png": "[encoded data removed]",
      "text/plain": [
       "<Figure size 432x288 with 1 Axes>"
      ]
     },
     "metadata": {
      "needs_background": "light"
     },
     "output_type": "display_data"
    }
   ],
   "source": [
    "def hist(x):\n",
    "    h, e = np.histogram(x.dropna(), range=(35, 100))\n",
    "    e = e.astype(int)\n",
    "    return pd.Series(h, zip(e[:-1], e[1:]))\n",
    "\n",
    "kw = dict(stacked=True, width=1, rot=45)\n",
    "clinical.groupby('DEATH_EVENT').age.apply(hist).unstack(0).plot.bar(**kw)"
   ]
  },
  {
   "cell_type": "markdown",
   "metadata": {},
   "source": [
    "#### Serum Creatinine\n",
    "> The Serum Creatinine histogram below shows that the patients with higher SC value will have higher mortality rate."
   ]
  },
  {
   "cell_type": "code",
   "execution_count": 154,
   "metadata": {},
   "outputs": [
    {
     "data": {
      "text/plain": [
       "<matplotlib.axes._subplots.AxesSubplot at 0x7fcf96769bb0>"
      ]
     },
     "execution_count": 154,
     "metadata": {},
     "output_type": "execute_result"
    },
    {
     "data": {
      "image/png": "[encoded data removed]",
      "text/plain": [
       "<Figure size 432x288 with 1 Axes>"
      ]
     },
     "metadata": {
      "needs_background": "light"
     },
     "output_type": "display_data"
    }
   ],
   "source": [
    "def hist(x):\n",
    "    h, e = np.histogram(x.dropna(), range=(0, 12))\n",
    "    e = e.astype(int)\n",
    "    return pd.Series(h, zip(e[:-1], e[1:]))\n",
    "\n",
    "kw = dict(stacked=True, width=1, rot=45)\n",
    "clinical.groupby('DEATH_EVENT').serum_creatinine.apply(hist).unstack(0).plot.bar(**kw)"
   ]
  },
  {
   "cell_type": "markdown",
   "metadata": {},
   "source": [
    "#### Anaemia\n",
    ">The impact of anaemia on death: The patients having anaemia has higher chance of death than these without as 35.7% > 29.4%"
   ]
  },
  {
   "cell_type": "code",
   "execution_count": 82,
   "metadata": {},
   "outputs": [
    {
     "data": {
      "image/png": "[encoded data removed]",
      "text/plain": [
       "<Figure size 720x432 with 1 Axes>"
      ]
     },
     "metadata": {
      "needs_background": "light"
     },
     "output_type": "display_data"
    }
   ],
   "source": [
    "anaemia = clinical.groupby('anaemia')['DEATH_EVENT'].value_counts()[1]\n",
    "non_anaemia = clinical.groupby('anaemia')['DEATH_EVENT'].value_counts()[0]\n",
    "anaemia = anaemia*(100/anaemia.sum())\n",
    "non_anaemia = non_anaemia*(100/non_anaemia.sum())\n",
    "df2 = pd.DataFrame(np.array([list(anaemia), list(non_anaemia)]), index = ['anaemia', 'non_anaemia'], columns = ['No', 'Yes'])\n",
    "\n",
    "ax = clinical.groupby('anaemia')['DEATH_EVENT'].value_counts().unstack(level=1).plot.barh(stacked=True, figsize=(10, 6))\n",
    "ax.set_ylabel(\"Anaemia\")\n",
    "\n",
    "# Set txt\n",
    "kx = -0.3\n",
    "ky = -0.02\n",
    "\n",
    "values = [70.58823529411765, 64.34108527131784, 29.411764705882355, 35.65891472868217]\n",
    "\n",
    "for i,rec in enumerate(ax.patches):\n",
    "    ax.text(rec.get_xy()[0]+rec.get_width()/2+kx,rec.get_xy()[1]+rec.get_height()/2+ky,'{:.1%}'.format(values[i]/100), fontsize=12, color='black')"
   ]
  },
  {
   "cell_type": "markdown",
   "metadata": {},
   "source": [
    "#### Diabetes\n",
    "> Diabetes has little impact on the death rate of heart failure, as the patients with or without diabetes are having approximately the same probability of death"
   ]
  },
  {
   "cell_type": "code",
   "execution_count": 81,
   "metadata": {},
   "outputs": [
    {
     "data": {
      "image/png": "[encoded data removed]",
      "text/plain": [
       "<Figure size 720x432 with 1 Axes>"
      ]
     },
     "metadata": {
      "needs_background": "light"
     },
     "output_type": "display_data"
    }
   ],
   "source": [
    "diabetes = clinical.groupby('diabetes')['DEATH_EVENT'].value_counts()[1]\n",
    "non_diabetes = clinical.groupby('diabetes')['DEATH_EVENT'].value_counts()[0]\n",
    "diabetes = diabetes*(100/diabetes.sum())\n",
    "non_diabetes = non_diabetes*(100/non_diabetes.sum())\n",
    "df2 = pd.DataFrame(np.array([list(anaemia), list(non_anaemia)]), index = ['diabetes', 'non_diabetes'], columns = ['No', 'Yes'])\n",
    "\n",
    "ax = clinical.groupby('diabetes')['DEATH_EVENT'].value_counts().unstack(level=1).plot.barh(stacked=True, figsize=(10, 6))\n",
    "ax.set_ylabel(\"Diabetes\")\n",
    "\n",
    "# Set txt\n",
    "kx = -0.3\n",
    "ky = -0.02\n",
    "\n",
    "values = [67.816092, 68.000000, 32.183908, 32.000000]\n",
    "\n",
    "for i,rec in enumerate(ax.patches):\n",
    "    ax.text(rec.get_xy()[0]+rec.get_width()/2+kx,rec.get_xy()[1]+rec.get_height()/2+ky,'{:.1%}'.format(values[i]/100), fontsize=12, color='black')"
   ]
  },
  {
   "cell_type": "markdown",
   "metadata": {},
   "source": [
    "#### Smoking\n",
    "> Smoking has little impact on the mortality rate of heart failure, as the patients with or without smoking habit are having approximately the same probability of death"
   ]
  },
  {
   "cell_type": "code",
   "execution_count": 80,
   "metadata": {},
   "outputs": [
    {
     "data": {
      "image/png": "[encoded data removed]",
      "text/plain": [
       "<Figure size 720x432 with 1 Axes>"
      ]
     },
     "metadata": {
      "needs_background": "light"
     },
     "output_type": "display_data"
    }
   ],
   "source": [
    "smoking = clinical.groupby('smoking')['DEATH_EVENT'].value_counts()[1]\n",
    "non_smoking = clinical.groupby('smoking')['DEATH_EVENT'].value_counts()[0]\n",
    "smoking = smoking*(100/smoking.sum())\n",
    "non_smoking = non_smoking*(100/non_smoking.sum())\n",
    "df2 = pd.DataFrame(np.array([list(smoking), list(non_smoking)]), index = ['smoking', 'non_smoking'], columns = ['No', 'Yes'])\n",
    "\n",
    "ax = clinical.groupby('smoking')['DEATH_EVENT'].value_counts().unstack(level=1).plot.barh(stacked=True, figsize=(10, 6))\n",
    "ax.set_ylabel(\"Smoking\")\n",
    "\n",
    "# Set txt\n",
    "kx = -0.3\n",
    "ky = -0.02\n",
    "\n",
    "values = [67.487685, 68.750000, 32.512315, 31.250000]\n",
    "\n",
    "for i,rec in enumerate(ax.patches):\n",
    "    ax.text(rec.get_xy()[0]+rec.get_width()/2+kx,rec.get_xy()[1]+rec.get_height()/2+ky,'{:.1%}'.format(values[i]/100), fontsize=12, color='black')"
   ]
  },
  {
   "cell_type": "markdown",
   "metadata": {},
   "source": [
    "#### High Blood Pressure\n",
    ">The impact of high blood pressure on death: The patients having high blood pressure are more likely to die from heart disease than these without as 37.1% > 29.4%"
   ]
  },
  {
   "cell_type": "code",
   "execution_count": 85,
   "metadata": {},
   "outputs": [
    {
     "data": {
      "image/png": "[encoded data removed]",
      "text/plain": [
       "<Figure size 720x432 with 1 Axes>"
      ]
     },
     "metadata": {
      "needs_background": "light"
     },
     "output_type": "display_data"
    }
   ],
   "source": [
    "high_blood_pressure = clinical.groupby('high_blood_pressure')['DEATH_EVENT'].value_counts()[1]\n",
    "non_high_blood_pressure = clinical.groupby('high_blood_pressure')['DEATH_EVENT'].value_counts()[0]\n",
    "high_blood_pressure = high_blood_pressure*(100/high_blood_pressure.sum())\n",
    "non_high_blood_pressure = non_high_blood_pressure*(100/non_high_blood_pressure.sum())\n",
    "df2 = pd.DataFrame(np.array([list(high_blood_pressure), list(non_high_blood_pressure)]), index = ['high_blood_pressure', 'non_high_blood_pressure'], columns = ['No', 'Yes'])\n",
    "\n",
    "ax = clinical.groupby('high_blood_pressure')['DEATH_EVENT'].value_counts().unstack(level=1).plot.barh(stacked=True, figsize=(10, 6))\n",
    "ax.set_ylabel(\"high_blood_pressure\")\n",
    "\n",
    "# Set txt\n",
    "kx = -0.3\n",
    "ky = -0.02\n",
    "\n",
    "values = [70.618557, 62.857143, 29.381443, 37.142857]\n",
    "\n",
    "for i,rec in enumerate(ax.patches):\n",
    "    ax.text(rec.get_xy()[0]+rec.get_width()/2+kx,rec.get_xy()[1]+rec.get_height()/2+ky,'{:.1%}'.format(values[i]/100), fontsize=12, color='black')"
   ]
  },
  {
   "cell_type": "markdown",
   "metadata": {},
   "source": [
    "### Model Training"
   ]
  },
  {
   "cell_type": "code",
   "execution_count": 141,
   "metadata": {},
   "outputs": [],
   "source": [
    "clinical = clinical.loc[:, clinical.columns != 'time']\n",
    "X = clinical.loc[:, clinical.columns != 'DEATH_EVENT']\n",
    "y = clinical.loc[:, clinical.columns == 'DEATH_EVENT']\n",
    "X_train, X_test, y_train, y_test = train_test_split(X, y, test_size=0.2, random_state=1234)"
   ]
  },
  {
   "cell_type": "code",
   "execution_count": 142,
   "metadata": {},
   "outputs": [
    {
     "name": "stderr",
     "output_type": "stream",
     "text": [
      "/Users/kiki.wang/opt/anaconda3/lib/python3.8/site-packages/sklearn/utils/validation.py:73: DataConversionWarning: A column-vector y was passed when a 1d array was expected. Please change the shape of y to (n_samples, ), for example using ravel().\n",
      "  return f(**kwargs)\n"
     ]
    },
    {
     "data": {
      "text/plain": [
       "LogisticRegression()"
      ]
     },
     "execution_count": 142,
     "metadata": {},
     "output_type": "execute_result"
    }
   ],
   "source": [
    "logreg = LogisticRegression()\n",
    "logreg.fit(X_train, y_train)"
   ]
  },
  {
   "cell_type": "code",
   "execution_count": 143,
   "metadata": {},
   "outputs": [],
   "source": [
    "import pickle\n",
    "pickle.dump(logreg, open('logreg_model.sav', 'wb'))"
   ]
  },
  {
   "cell_type": "markdown",
   "metadata": {},
   "source": [
    "### Model Evaluation"
   ]
  },
  {
   "cell_type": "code",
   "execution_count": 144,
   "metadata": {},
   "outputs": [],
   "source": [
    "logreg = pickle.load(open('logreg_model.sav', 'rb'))"
   ]
  },
  {
   "cell_type": "code",
   "execution_count": 145,
   "metadata": {},
   "outputs": [
    {
     "name": "stdout",
     "output_type": "stream",
     "text": [
      "Accuracy of logistic regression classifier on test set: 0.75\n"
     ]
    }
   ],
   "source": [
    "y_pred = logreg.predict(X_test)\n",
    "print('Accuracy of logistic regression classifier on test set: {:.2f}'.format(logreg.score(X_test, y_test)))"
   ]
  },
  {
   "cell_type": "code",
   "execution_count": 146,
   "metadata": {},
   "outputs": [
    {
     "name": "stdout",
     "output_type": "stream",
     "text": [
      "[[38  4]\n",
      " [11  7]]\n"
     ]
    }
   ],
   "source": [
    "confusion_matrix = confusion_matrix(y_test, y_pred)\n",
    "print(confusion_matrix)"
   ]
  },
  {
   "cell_type": "code",
   "execution_count": 147,
   "metadata": {},
   "outputs": [
    {
     "name": "stdout",
     "output_type": "stream",
     "text": [
      "              precision    recall  f1-score   support\n",
      "\n",
      "           0       0.78      0.90      0.84        42\n",
      "           1       0.64      0.39      0.48        18\n",
      "\n",
      "    accuracy                           0.75        60\n",
      "   macro avg       0.71      0.65      0.66        60\n",
      "weighted avg       0.73      0.75      0.73        60\n",
      "\n"
     ]
    }
   ],
   "source": [
    "print(classification_report(y_test, y_pred))"
   ]
  },
  {
   "cell_type": "code",
   "execution_count": 148,
   "metadata": {},
   "outputs": [
    {
     "data": {
      "image/png": "[encoded data removed]",
      "text/plain": [
       "<Figure size 432x288 with 1 Axes>"
      ]
     },
     "metadata": {
      "needs_background": "light"
     },
     "output_type": "display_data"
    }
   ],
   "source": [
    "logit_roc_auc = roc_auc_score(y_test, logreg.predict(X_test))\n",
    "fpr, tpr, thresholds = roc_curve(y_test, logreg.predict_proba(X_test)[:,1])\n",
    "plt.figure()\n",
    "plt.plot(fpr, tpr, label='Logistic Regression (area = %0.2f)' % logit_roc_auc)\n",
    "plt.plot([0, 1], [0, 1],'r--')\n",
    "plt.xlim([0.0, 1.0])\n",
    "plt.ylim([0.0, 1.05])\n",
    "plt.xlabel('False Positive Rate')\n",
    "plt.ylabel('True Positive Rate')\n",
    "plt.title('Receiver operating characteristic')\n",
    "plt.legend(loc=\"lower right\")\n",
    "plt.savefig('Log_ROC')\n",
    "plt.show()"
   ]
  },
  {
   "cell_type": "code",
   "execution_count": 149,
   "metadata": {},
   "outputs": [
    {
     "data": {
      "image/png": "[encoded data removed]",
      "text/plain": [
       "<Figure size 432x288 with 1 Axes>"
      ]
     },
     "metadata": {
      "needs_background": "light"
     },
     "output_type": "display_data"
    }
   ],
   "source": [
    "coefs = np.abs(logreg.coef_[0])\n",
    "indices = np.argsort(coefs)[::-1]\n",
    "\n",
    "plt.figure()\n",
    "plt.title(\"Feature importances (Logistic Regression)\")\n",
    "plt.bar(range(10), coefs[indices[:10]],\n",
    "       color=\"b\", align=\"center\")\n",
    "plt.xticks(range(10), clinical.columns[indices[:10]], rotation=45, ha='right')\n",
    "plt.subplots_adjust(bottom=0.3)"
   ]
  },
  {
   "cell_type": "markdown",
   "metadata": {},
   "source": [
    "### Conclusion\n",
    "With limited 300 data, our logistic model still captured some insights from the data. It provided a reasonable prediction of mortality probability for patients with heart disease with accuracy as high as 0.75. The feature importance plot shows that age, ejection fraction, serum sodium value, serum creatinine and high blood pressure are useful features for prediction, which is consistent with our EDA results."
   ]
  }
 ],
 "metadata": {
  "kernelspec": {
   "display_name": "Python 3",
   "language": "python",
   "name": "python3"
  },
  "language_info": {
   "codemirror_mode": {
    "name": "ipython",
    "version": 3
   },
   "file_extension": ".py",
   "mimetype": "text/x-python",
   "name": "python",
   "nbconvert_exporter": "python",
   "pygments_lexer": "ipython3",
   "version": "3.8.3"
  }
 },
 "nbformat": 4,
 "nbformat_minor": 4
}
